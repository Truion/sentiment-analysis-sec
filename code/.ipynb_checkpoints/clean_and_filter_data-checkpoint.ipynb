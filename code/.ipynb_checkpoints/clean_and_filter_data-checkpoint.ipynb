{
 "cells": [
  {
   "cell_type": "code",
   "execution_count": 1,
   "metadata": {},
   "outputs": [],
   "source": [
    "import pandas as pd\n",
    "import numpy as np\n",
    "import nltk\n",
    "import os\n",
    "from pathlib2 import Path\n",
    "import re\n",
    "import shutil"
   ]
  },
  {
   "cell_type": "code",
   "execution_count": 2,
   "metadata": {},
   "outputs": [
    {
     "data": {
      "text/plain": [
       "'/Volumes/GoogleDrive/My Drive/Jotham/Personal Docs/ML for finance/SEC Sentiment Analysis/sec-sentiment/code'"
      ]
     },
     "execution_count": 2,
     "metadata": {},
     "output_type": "execute_result"
    }
   ],
   "source": [
    "os.getcwd()"
   ]
  },
  {
   "cell_type": "code",
   "execution_count": 3,
   "metadata": {},
   "outputs": [],
   "source": [
    "def get_project_dir():\n",
    "    try:\n",
    "        project_dir = Path.cwd() / '/' / 'My Drive' / 'Jotham' / 'Personal Docs' / 'ML for finance' / 'SEC Sentiment Analysis' / 'sec-sentiment'\n",
    "    except:\n",
    "        print('windows path not available')\n",
    "    else:\n",
    "        project_dir = Path.cwd() / '/' / 'Volumes' / 'GoogleDrive' / 'My Drive' / 'Jotham' / 'Personal Docs' / 'ML for finance' / 'SEC Sentiment Analysis' / 'sec-sentiment'\n",
    "    return project_dir"
   ]
  },
  {
   "cell_type": "code",
   "execution_count": 4,
   "metadata": {},
   "outputs": [
    {
     "data": {
      "text/plain": [
       "'/Volumes/GoogleDrive/My Drive/Jotham/Personal Docs/ML for finance/SEC Sentiment Analysis/sec-sentiment/code'"
      ]
     },
     "execution_count": 4,
     "metadata": {},
     "output_type": "execute_result"
    }
   ],
   "source": [
    "os.getcwd()"
   ]
  },
  {
   "cell_type": "code",
   "execution_count": 5,
   "metadata": {},
   "outputs": [],
   "source": [
    "def clean_filing(input_filename, filing_type, output_filename):\n",
    "    \"\"\"\n",
    "    Cleans a 10-K or 10-Q filing. All arguments take strings as input\n",
    "    input_filename: name of the file to be cleaned\n",
    "    filing_type: either 10-K or 10-Q\n",
    "    outuput_filename: name of output file\n",
    "    \"\"\"\n",
    "    \n",
    "    # open file and get rid of all lines \n",
    "    with open (input_filename, 'r') as f:\n",
    "        data = f.read().replace('\\n', ' ')\n",
    "    \n",
    "    # get text in between the appropriate 10-K tags\n",
    "    search_10k = re.search(\"(?s)(?m)<TYPE>{}.*?(</TEXT>)\".format(filing_type), data)\n",
    "    try:\n",
    "        data_processed = search_10k.group(0)\n",
    "    \n",
    "        # delete formatting text used to identify 10-K section as its not relevant\n",
    "        data_processed = re.sub(pattern=\"((?i)<TYPE>).*?(?=<)\", repl='', string=data_processed)\n",
    "\n",
    "        # Five more formatting tags are deleted\n",
    "        data_processed = re.sub(pattern=\"((?i)<SEQUENCE>).*?(?=<)\", repl='', string=data_processed)\n",
    "        data_processed = re.sub(pattern=\"((?i)<FILENAME>).*?(?=<)\", repl='', string=data_processed)\n",
    "        data_processed = re.sub(pattern=\"((?i)<DESCRIPTION>).*?(?=<)\", repl='', string=data_processed)\n",
    "        data_processed = re.sub(pattern=\"(?s)(?i)<head>.*?</head>\", repl='', string=data_processed)\n",
    "        data_processed = re.sub(pattern=\"(?s)(?i)<(table).*?(</table>)\", repl='', string=data_processed)\n",
    "\n",
    "        # Tags each section of the financial statement with prefix '°Item' for future analysis\n",
    "        data_processed = re.sub(pattern=\"(?s)(?i)(?m)> +Item|>Item|^Item\", repl=\">Â°Item\", string=data_processed, count=0)\n",
    "\n",
    "        # Removes all HTML tags\n",
    "        data_processed = re.sub(pattern=\"(?s)<.*?>\", repl=\" \", string=data_processed, count=0)\n",
    "\n",
    "        # Replaces all Unicode strings\n",
    "        data_processed = re.sub(pattern=\"&(.{2,6});\", repl=\" \", string=data_processed, count=0)\n",
    "\n",
    "        # Replaces multiple spaces with a single space\n",
    "        data_processed = re.sub(pattern=\"(?s) +\", repl=\" \", string=data_processed, count=0)\n",
    "\n",
    "        with open(output_filename + str('.txt'), 'w') as output:\n",
    "            output.write(data_processed)\n",
    "            \n",
    "    except BaseException as e:\n",
    "        print('{} could not be cleaned. Exception: {}'.format(input_filename, e))\n",
    "        pass"
   ]
  },
  {
   "cell_type": "code",
   "execution_count": 6,
   "metadata": {},
   "outputs": [],
   "source": [
    "def clean_all_filings():\n",
    "    \"\"\"Clean all filings in sec-filings directory\"\"\"\n",
    "    \n",
    "    project_dir = get_project_dir()\n",
    "    os.chdir(os.path.join(project_dir, 'sec-filings-downloaded'))\n",
    "    company_dir_list = os.listdir()  \n",
    "\n",
    "    for company in company_dir_list:\n",
    "        company_dir = os.path.join(project_dir, 'sec-filings-downloaded', company)\n",
    "        os.chdir(company_dir) # abs path to each company directory\n",
    "        \n",
    "        print('***Cleaning: {}***'.format(company))\n",
    "        for file in os.listdir():  # iterate through all files in the respective company directory\n",
    "            \n",
    "            # cleaning files\n",
    "            if file.startswith('clean'): continue\n",
    "            if file.endswith('10-K'): filing_type = '10-K'\n",
    "            else: filing_type = '10-Q'\n",
    "            if file.endswith('10-K') or file.endswith('10-Q'):\n",
    "                clean_filing(input_filename=file, filing_type=filing_type, output_filename='cleaned_' + str(file))\n",
    "                print('{} filing cleaned'.format(file))\n",
    "                \n",
    "        \n",
    "        # renaming 10-Q files to include filing quarter\n",
    "        for file in os.listdir():\n",
    "            if file.startswith('clean') and file.endswith('10-Q.txt'):\n",
    "                get_date = file[8:18]\n",
    "                get_year = file[8:12]\n",
    "                get_month = int(file[13:15])\n",
    "\n",
    "                if get_month >= 1 and get_month <= 5:\n",
    "                    filing_quarter = 'Q1'\n",
    "                elif get_month >= 6 and get_month <= 8:\n",
    "                    filing_quarter = 'Q2'\n",
    "                else:\n",
    "                    filing_quarter = 'Q3'\n",
    "                \n",
    "                os.rename(file, ('cleaned_'+str(filing_quarter)+'_'+str(get_date)+'_'+'10-Q.txt'))\n",
    "\n",
    "                \n",
    "            "
   ]
  },
  {
   "cell_type": "code",
   "execution_count": 7,
   "metadata": {},
   "outputs": [],
   "source": [
    "def move_files_to_10k_10q_folders():\n",
    "    \"\"\"Move filings to the appropriate folders in each company directory\"\"\"\n",
    "    \n",
    "    project_dir = get_project_dir()\n",
    "    os.chdir(os.path.join(project_dir, 'sec-filings-downloaded'))\n",
    "    company_dir_list = os.listdir()  \n",
    "\n",
    "    for company in company_dir_list:\n",
    "        company_dir = os.path.join(project_dir, 'sec-filings-downloaded', company)\n",
    "        os.chdir(company_dir) # abs path to each company directory    \n",
    "    \n",
    "    # make 10-K and 10-Q directories\n",
    "        ten_k_dir = os.path.join(project_dir, 'sec-filings-downloaded', company, 'cleaned_10-K')\n",
    "        ten_q_dir = os.path.join(project_dir, 'sec-filings-downloaded', company, 'cleaned_10-Q')        \n",
    "        if not os.path.exists(ten_k_dir): os.makedirs(ten_k_dir)\n",
    "        if not os.path.exists(ten_q_dir): os.makedirs(ten_q_dir)\n",
    "                \n",
    "        for file in os.listdir():\n",
    "            if file.startswith('cleaned') and file.endswith('10-K.txt'):\n",
    "                shutil.move(os.path.join(company_dir, file), os.path.join(ten_k_dir, file))\n",
    "            if file.startswith('cleaned') and file.endswith('10-Q.txt'):\n",
    "                shutil.move(os.path.join(company_dir, file), os.path.join(ten_q_dir, file))"
   ]
  },
  {
   "cell_type": "code",
   "execution_count": 8,
   "metadata": {},
   "outputs": [
    {
     "name": "stdout",
     "output_type": "stream",
     "text": [
      "***Cleaning: MEDALLION FINANCIAL CORP***\n",
      "***Cleaning: OPTICAL CABLE CORP***\n",
      "2018-12-19_10-K filing cleaned\n",
      "2018-09-11_10-Q filing cleaned\n"
     ]
    },
    {
     "name": "stderr",
     "output_type": "stream",
     "text": [
      "/anaconda3/lib/python3.6/site-packages/ipykernel_launcher.py:19: DeprecationWarning: Flags not at the start of the expression '((?i)<TYPE>).*?(?=<)'\n",
      "/anaconda3/lib/python3.6/site-packages/ipykernel_launcher.py:22: DeprecationWarning: Flags not at the start of the expression '((?i)<SEQUENCE>).*?(' (truncated)\n",
      "/anaconda3/lib/python3.6/site-packages/ipykernel_launcher.py:23: DeprecationWarning: Flags not at the start of the expression '((?i)<FILENAME>).*?(' (truncated)\n",
      "/anaconda3/lib/python3.6/site-packages/ipykernel_launcher.py:24: DeprecationWarning: Flags not at the start of the expression '((?i)<DESCRIPTION>).' (truncated)\n"
     ]
    },
    {
     "name": "stdout",
     "output_type": "stream",
     "text": [
      "2018-06-11_10-Q filing cleaned\n",
      "2018-03-13_10-Q filing cleaned\n",
      "2017-09-12_10-Q filing cleaned\n",
      "2017-12-20_10-K filing cleaned\n",
      "2017-06-13_10-Q filing cleaned\n",
      "2016-06-07_10-Q filing cleaned\n",
      "2016-03-14_10-Q filing cleaned\n",
      "2016-01-28_10-K filing cleaned\n",
      "2016-12-20_10-K filing cleaned\n",
      "2017-03-08_10-Q filing cleaned\n",
      "2016-09-13_10-Q filing cleaned\n",
      "***Cleaning: NICHOLAS FINANCIAL INC***\n",
      "2018-11-14_10-Q filing cleaned\n",
      "2018-08-14_10-Q filing cleaned\n",
      "2018-02-09_10-Q filing cleaned\n",
      "2018-06-27_10-K filing cleaned\n",
      "2017-08-09_10-Q filing cleaned\n",
      "2017-11-09_10-Q filing cleaned\n",
      "2017-06-14_10-K filing cleaned\n",
      "2017-02-09_10-Q filing cleaned\n",
      "2016-11-09_10-Q filing cleaned\n",
      "2016-08-09_10-Q filing cleaned\n",
      "2016-06-14_10-K filing cleaned\n",
      "2016-02-09_10-Q filing cleaned\n",
      "***Cleaning: CORE LABORATORIES N V (1)***\n",
      "2018-10-25_10-Q filing cleaned\n",
      "2018-07-27_10-Q filing cleaned\n",
      "2018-02-12_10-K filing cleaned\n",
      "2018-04-27_10-Q filing cleaned\n",
      "2017-07-26_10-Q filing cleaned\n",
      "2017-10-25_10-Q filing cleaned\n",
      "2017-04-21_10-Q filing cleaned\n",
      "2016-10-21_10-Q filing cleaned\n",
      "2017-02-10_10-K filing cleaned\n",
      "2016-07-22_10-Q filing cleaned\n",
      "2016-04-22_10-Q filing cleaned\n",
      "2016-02-12_10-K filing cleaned\n"
     ]
    }
   ],
   "source": [
    "clean_all_filings()"
   ]
  },
  {
   "cell_type": "code",
   "execution_count": 9,
   "metadata": {},
   "outputs": [],
   "source": [
    "move_files_to_10k_10q_folders()"
   ]
  },
  {
   "cell_type": "code",
   "execution_count": null,
   "metadata": {},
   "outputs": [],
   "source": []
  },
  {
   "cell_type": "code",
   "execution_count": null,
   "metadata": {},
   "outputs": [],
   "source": []
  },
  {
   "cell_type": "code",
   "execution_count": null,
   "metadata": {},
   "outputs": [],
   "source": []
  },
  {
   "cell_type": "code",
   "execution_count": null,
   "metadata": {},
   "outputs": [],
   "source": []
  },
  {
   "cell_type": "code",
   "execution_count": null,
   "metadata": {},
   "outputs": [],
   "source": []
  },
  {
   "cell_type": "code",
   "execution_count": null,
   "metadata": {},
   "outputs": [],
   "source": []
  }
 ],
 "metadata": {
  "kernelspec": {
   "display_name": "Python 3",
   "language": "python",
   "name": "python3"
  },
  "language_info": {
   "codemirror_mode": {
    "name": "ipython",
    "version": 3
   },
   "file_extension": ".py",
   "mimetype": "text/x-python",
   "name": "python",
   "nbconvert_exporter": "python",
   "pygments_lexer": "ipython3",
   "version": "3.6.5"
  }
 },
 "nbformat": 4,
 "nbformat_minor": 2
}
