{
 "cells": [
  {
   "cell_type": "code",
   "execution_count": 1,
   "metadata": {},
   "outputs": [],
   "source": [
    "import pandas as pd\n",
    "import numpy as np\n",
    "import os\n",
    "from pathlib2 import Path\n",
    "import re\n",
    "import shutil\n",
    "\n",
    "# preprocess filings\n",
    "import string\n",
    "from nltk import word_tokenize\n",
    "from nltk.stem import PorterStemmer\n",
    "\n",
    "# to vectorize filing\n",
    "from sklearn.feature_extraction.text import CountVectorizer"
   ]
  },
  {
   "cell_type": "code",
   "execution_count": 2,
   "metadata": {},
   "outputs": [],
   "source": [
    "def get_project_dir():\n",
    "    try:\n",
    "        project_dir = Path.cwd() / '/' / 'My Drive' / 'Jotham' / 'Personal Docs' / 'ML for finance' / 'SEC Sentiment Analysis' / 'sec-sentiment'\n",
    "        os.chdir(project_dir)\n",
    "    except BaseException as e:\n",
    "        project_dir = Path.cwd() / '/' / 'Volumes' / 'GoogleDrive' / 'My Drive' / 'Jotham' / 'Personal Docs' / 'ML for finance' / 'SEC Sentiment Analysis' / 'sec-sentiment'\n",
    "        os.chdir(project_dir)\n",
    "    return project_dir"
   ]
  },
  {
   "cell_type": "code",
   "execution_count": 3,
   "metadata": {},
   "outputs": [],
   "source": [
    "os.chdir(os.path.join(get_project_dir(), 'sec-filings-downloaded', 'OPTICAL CABLE CORP', 'cleaned_filings'))"
   ]
  },
  {
   "cell_type": "code",
   "execution_count": 4,
   "metadata": {},
   "outputs": [
    {
     "data": {
      "text/plain": [
       "['cleaned_2014-12-19_10-K',\n",
       " 'cleaned_Q1_2015-03-10_10-Q',\n",
       " 'cleaned_Q3_2014-09-10_10-Q',\n",
       " 'cleaned_Q1_2014-03-17_10-Q',\n",
       " 'cleaned_Q1_2016-03-14_10-Q',\n",
       " 'cleaned_Q2_2016-06-07_10-Q',\n",
       " 'cleaned_Q2_2014-06-11_10-Q',\n",
       " 'cleaned_Q2_2015-06-12_10-Q',\n",
       " 'cleaned_Q1_2017-03-08_10-Q',\n",
       " 'cleaned_Q3_2015-09-11_10-Q',\n",
       " 'cleaned_Q3_2016-09-13_10-Q',\n",
       " 'cleaned_2016-01-28_10-K',\n",
       " 'cleaned_Q3_2017-09-12_10-Q',\n",
       " 'cleaned_2018-12-19_10-K',\n",
       " 'cleaned_Q2_2017-06-13_10-Q',\n",
       " 'cleaned_2017-12-20_10-K',\n",
       " 'cleaned_Q2_2018-06-11_10-Q',\n",
       " 'cleaned_Q3_2018-09-11_10-Q',\n",
       " 'cleaned_2016-12-20_10-K',\n",
       " 'cleaned_Q1_2018-03-13_10-Q']"
      ]
     },
     "execution_count": 4,
     "metadata": {},
     "output_type": "execute_result"
    }
   ],
   "source": [
    "os.listdir()"
   ]
  },
  {
   "cell_type": "code",
   "execution_count": 5,
   "metadata": {},
   "outputs": [],
   "source": [
    "with open(os.listdir()[0]) as file1:\n",
    "    data = file1.readline()"
   ]
  },
  {
   "cell_type": "code",
   "execution_count": 6,
   "metadata": {},
   "outputs": [],
   "source": [
    "with open(os.listdir()[5]) as file2:\n",
    "    data2 = file2.readline()"
   ]
  },
  {
   "cell_type": "code",
   "execution_count": 7,
   "metadata": {},
   "outputs": [],
   "source": [
    "with open(os.listdir()[1]) as file3:\n",
    "    data3 = file3.readline()"
   ]
  },
  {
   "cell_type": "code",
   "execution_count": 8,
   "metadata": {},
   "outputs": [
    {
     "data": {
      "text/plain": [
       "' Table Of Contents UNITED STATES SECURITIES AND EXCHANGE COMMISSION Washington, D.C. 20549 FORM 10-Q [ X ] QUARTERLY REPORT PURSUANT TO SECTION 13 OR 15(d) OF THE SECURITIES EXCHANGE ACT OF 1934 For the quarterly period ended April 30, 2016 OR [ ] TRANSITION REPORT PURSUANT TO SECTION 13 OR 15(d) OF THE SECURITIES EXCHANGE ACT OF 1934 For the transition period from _____________ to ______________ Commission file number 0-27022 OPTICAL CABLE CORPORATION (Exact name of registrant as specified in its charter) 5290 Concourse Drive Roanoke, Virginia 24019 (Address of principal executive offices, including zip code) (540) 265-0690 (Registrant s telephone number, including area code) Indicate by check mark whether the registrant (1) has filed all reports required to be filed by Section 13 or 15(d) of the Securities Exchange Act of 1934 during the preceding 12 months (or for such shorter period that the registrant was required to file such reports), and (2) has been subject to such filing requirements for the past 90 days. (1) Yes No Indicate by check mark whether the registrant has submitted electronically and posted on its corporate Web site, if any, every Interactive Data File required to be submitted and posted pursuant to Rule 405 of Regulation S-T ( 232.405 of this chapter) during the preceding 12 months (or for such shorter period that the registrant was required to submit and post such files). Yes No Indicate by check mark whether the registrant is a large accelerated filer, an accelerated filer, a non-accelerated filer, or a smaller reporting company. (See the definitions of large accelerated filer, accelerated filer and smaller reporting company in Rule 12b-2 of the Exchange Act). (Check one): Large Accelerated Filer Accelerated Filer Non-accelerated Filer Smaller Reporting Company Indicate by check mark whether the registrant is a shell company (as defined in Rule 12b-2 of the Exchange Act). Yes No As of June 3, 2016, 7,094,072 shares of the registrant s Common Stock, no par value, were outstanding. Table Of Contents optical cable corporation Form 10-Q Index Six Months Ended April 30, 2016 1 Table Of Contents PART I. FINANCIAL INFORMATION Â°Item 1. Financial Statements OPTICAL CABLE CORPORATION Condensed Consolidated Balance Sheets (Unaudited) See accompanying condensed notes to condensed consolidated financial statements. 2 Table Of Contents OPTICAL CABLE CORPORATION Condensed Consolidated Statements of Operations (Unaudited) See accompanying condensed notes to condensed consolidated financial statements. 3 Table Of Contents OPTICAL CABLE CORPORATION Condensed Consolidated Statement of Shareholders Equity (Unaudited) See accompanying condensed notes to condensed consolidated financial statements. 4 Table Of Contents OPTICAL CABLE CORPORATION Condensed Consolidated Statements of Cash Flows (Unaudited) See accompanying condensed notes to condensed consolidated financial statements. 5 Table Of Contents OPTICAL CABLE CORPORATION Condensed Notes to Condensed Consolidated Financial Statements Six Months Ended April 30, 2016 (Unaudited) The accompanying unaudited condensed consolidated financial statements of Optical Cable Corporation and its subsidiaries (collectively, the Company or OCC ) have been prepared in accordance with U.S. generally accepted accounting principles for interim financial reporting information and the instructions to Form 10-Q and Regulation S-X. Accordingly, they do not include all of the information and notes required by U.S. generally accepted accounting principles for complete financial statements. In the opinion of management, all material adjustments considered necessary for a fair presentation have been included. Operating results for the six months ended April 30, 2016 are not necessarily indicative of the results for the fiscal year ending October 31, 2016 because the following items, among other things, may impact those results: changes in market conditions, seasonality, changes in technology, competitive conditions, ability of management to execute its business plans, as well as other variables, uncertainties, contingencies and risks set forth as risks in the Company s Annual Report on Form 10-K for the fiscal year ended October 31, 2015 (including those set forth in the Forward-Looking Information section), or as otherwise set forth in other filings by the Company as variables, contingencies and/or risks possibly affecting future results. The unaudited condensed consolidated financial statements and condensed notes are presented as permitted by Form 10-Q and do not contain certain information included in the Company s annual consolidated financial statements and notes. For further information, refer to the consolidated financial statements and notes thereto included in the Company s Annual Report on Form 10-K for the fiscal year ended October 31, 2015. As of April 30, 2016, there were approximately 301,000 remaining shares available for grant under the Optical Cable Corporation Second Amended and Restated 2011 Stock Incentive Plan. Share-based compensation expense for employees, a consultant and non-employee Directors recognized in the condensed consolidated statements of operations for the three months and six months ended April 30, 2016 was $295,264 and $514,337, respectively, and for the three months and six months ended April 30, 2015 was $387,200 and $637,694, respectively. Share-based compensation expense is entirely related to expense recognized in connection with the vesting of restricted stock awards or other stock awards. Restricted and Other Stock Awards The Company has granted, and anticipates granting from time to time, restricted stock awards subject to approval by the Compensation Committee of the Board of Directors. Since fiscal year 2004, the Company has exclusively used restricted stock awards for all share-based compensation of employees and consultants, and stock awards to non-employee members of the Board of Directors. Stock awards to non-employee members of the Board of Directors vest immediately upon grant, but cannot be sold, transferred, pledged or otherwise encumbered or disposed of until six months after the date of grant. 6 Table Of Contents OPTICAL CABLE CORPORATION Condensed Notes to Condensed Consolidated Financial Statements Six Months Ended April 30, 2016 (Unaudited) During the three months ended April 30, 2016, stock awards totaling 86,296 shares to non-employee Directors under the Optical Cable Corporation Second Amended and Restated 2011 Stock Incentive Plan were approved by the Board of Directors of the Company. The shares are part of the non-employee Directors annual compensation for service on the Board of Directors. The Company recorded compensation expense totaling $201,070 during the three months and six months ended April 30, 2016 related to the grants to non-employee Directors. Restricted stock award activity during the six months ended April 30, 2016 consisted of restricted or other stock grants totaling 86,296 shares and 26,334 restricted or other shares withheld for taxes in connection with the vesting of restricted shares or other shares. Employees have the option to surrender shares to pay for withholding tax obligations resulting from any vesting restricted shares, or to pay cash to the Company in the amount of the withholding taxes owed on the value of any vesting restricted shares in order to avoid surrendering shares. Beginning with the 2016 grant, non-employee Directors have the option to surrender shares to pay for tax obligations resulting from any vesting shares as well. As of April 30, 2016, the estimated amount of compensation cost related to unvested equity-based compensation awards in the form of service-based and operational performance-based shares that the Company will recognize over a 2.9 year weighted-average period is approximately $2.5 million. A summary of changes in the allowance for doubtful accounts for trade accounts receivable for the six months ended April 30, 2016 and 2015 follows: 7 Table Of Contents OPTICAL CABLE CORPORATION Condensed Notes to Condensed Consolidated Financial Statements Six Months Ended April 30, 2016 (Unaudited) Inventories as of April 30, 2016 and October 31, 2015 consist of the following: As of April 30, 2016 and October 31, 2015, the Company s accrual for estimated product warranty claims totaled $75,000 and $130,000, respectively, and is included in accounts payable and accrued expenses. Warranty claims expense for the three months and six months ended April 30, 2016 totaled $10,952 and $23,682, respectively. Warranty claims expense for the three months and six months ended April 30, 2015 totaled $117,336 and $156,415, respectively. The following table summarizes the changes in the Company s accrual for product warranties during the six months ended April 30, 2016 and 2015: The Company has credit facilities consisting of a real estate term loan, as amended and restated (the Virginia Real Estate Loan ), a supplemental real estate term loan, as amended and restated (the North Carolina Real Estate Loan ) and a revolving credit note. Both the Virginia Real Estate Loan and the North Carolina Real Estate Loan are with Bank of North Carolina ( BNC ), have a fixed interest rate of 4.25% and are secured by a first priority lien on all of the Company s personal property and assets, all money, goods, machinery, equipment, fixtures, inventory, accounts, chattel paper, letter of credit rights, deposit accounts, commercial tort claims, documents, instruments, investment property and general intangibles now owned or hereafter acquired by the Company and wherever located, as well as a first lien deed of trust on the Company s real property. 8 Table Of Contents OPTICAL CABLE CORPORATION Condensed Notes to Condensed Consolidated Financial Statements Six Months Ended April 30, 2016 (Unaudited) Long-term debt as of April 30, 2016 and October 31, 2015 consists of the following: On April 26, 2016, OCC entered into a Credit Agreement and a Revolving Credit Note ( Revolver ) with BNC to provide the Company with a $7.0 million revolving line of credit ( Revolving Loan ) for the working capital needs of the Company and which replaced the entire indebtedness the Company had with SunTrust Bank ( SunTrust ). Under the Credit Agreement and Revolver, BNC agreed to provide the Company with one or more revolving loans in a collective maximum principal amount of $7.0 million until February 28, 2017, at which time the Revolving Loan will step down to a maximum principal amount of $6.5 million. On February 28, 2018, the maximum principal amount will again step down to $6.0 million and remain as such until the Revolving Loan terminates. The Company may borrow, repay, and reborrow at any time or from time to time while the Revolving Loan is in effect. The Company paid $70,000 to BNC as a fee for the Revolving Loan and incurred closing fees and costs of approximately $41,000. The Revolving Loan accrues interest at adjusted LIBOR plus 3.65% (resulting in a 4.13% rate at April 30, 2016). The Revolving Loan is payable in monthly payments of interest only with principal and any outstanding interest due and payable at maturity. Maturity for the Revolving Loan is February 28, 2018, unless extended. The Revolving Loan is secured by a perfected first lien security interest on all assets, including but not limited to, accounts, as-extracted collateral, chattel paper, commodity accounts, commodity contracts, deposit accounts, documents, equipment, fixtures, furniture, general intangibles, goods, instruments, inventory, investment property, letter of credit rights, payment intangibles, promissory notes, software and general tangible and intangible assets owned now or later acquired. The Revolving Loan is also cross-collateralized with the Company s real property. The Revolving Loan replaced the Commercial Loan the Company had with SunTrust. Under the terms of the Commercial Loan, the Company could borrow an aggregate principal amount at any one time outstanding not to exceed the lesser of (i) $9.0 million, or (ii) the sum of 85% of certain receivables aged 90 days or less plus 35% of the lesser of $1.0 million or certain foreign receivables plus 25% of certain raw materials inventory. Also on April 26, 2016, the Company, as borrower, and BNC, as lender, entered into an amended and restated Virginia Real Estate Loan and North Carolina Real Estate Loan in the amount of $5,271,411 and $1,816,609, respectively. 9 Table Of Contents OPTICAL CABLE CORPORATION Condensed Notes to Condensed Consolidated Financial Statements Six Months Ended April 30, 2016 (Unaudited) As of April 30, 2016, the Company had $6.0 million of outstanding borrowings on its Revolving Loan and $1.0 million in available credit. As of October 31, 2015, the Company had outstanding borrowings of $6.0 million on its Commercial Loan and $2.5 million in available credit. The carrying amounts reported in the condensed consolidated balance sheets as of April 30, 2016 and October 31, 2015 for cash, trade accounts receivable, other receivables and accounts payable and accrued expenses, including accrued compensation and payroll taxes, approximate fair value because of the short maturity of these instruments. The carrying values of the Company s note payable to bank and long-term debt approximate fair value based on similar long-term debt issues available to the Company as of April 30, 2016 and October 31, 2015. Fair value is defined as the amount that would be received to sell an asset or paid to transfer a liability in an orderly transaction between market participants at the measurement date. Basic net loss per share excludes dilution and is computed by dividing net loss available to common shareholders by the weighted-average number of common shares outstanding for the period. Diluted net loss per share reflects the potential dilution that could occur if securities or other contracts to issue common stock were exercised or converted into common stock or resulted in the issuance of common stock that then shared in the net loss of the Company. The following is a reconciliation of the numerators and denominators of the net loss per share computations for the periods presented: Weighted average unvested shares for the three months ended April 30, 2016 totaling 722,650, while issued and outstanding, were not included in the computation of basic and diluted net loss per share for the three months and six months ended April 30, 2016 (because to include such shares would have been antidilutive, or in other words, to do so would have reduced the net loss per share for those periods). Weighted average unvested shares as of April 30, 2015 totaling 657,148 and 611,101, while issued and outstanding, were not included in the computation of basic and diluted net loss per share for the three months and six months ended April 30, 2015, respectively, (because to include such shares would have been antidilutive, or in other words, to do so would have reduced the net loss per share for those periods). 10 Table Of Contents OPTICAL CABLE CORPORATION Condensed Notes to Condensed Consolidated Financial Statements Six Months Ended April 30, 2016 (Unaudited) The Company provides credit, in the normal course of business, to various commercial enterprises, governmental entities and not-for-profit organizations. Concentration of credit risk with respect to trade receivables is limited due to the Company s large number of customers. The Company also manages exposure to credit risk through credit approvals, credit limits and monitoring procedures. Management believes that credit risks as of April 30, 2016 and October 31, 2015 have been adequately provided for in the condensed consolidated financial statements. For the three months ended April 30, 2016, 9.3% and 14.1% of consolidated net sales were attributable to two customers. For the six months ended April 30, 2016, 9.5% and 13.1% of consolidated net sales were attributable to the same two customers. For the three months ended April 30, 2015, 14.7% and 14.8% of consolidated net sales were attributable to two customers. For the six months ended April 30, 2015, 14.0% and 13.4% of consolidated net sales were attributable to the same two customers. For the six months ended April 30, 2016 and 2015, approximately 78% and 79%, respectively, of consolidated net sales were from customers in the United States, and approximately 22% and 21%, respectively, were from customers outside of the United States. The Company has a single reportable segment for purposes of segment reporting. On August 1, 2008, OCC acquired 70% of the authorized membership interests of Centric Solutions LLC ( Centric Solutions ), a limited liability company focused on sales of turnkey cabling and connectivity solutions for the datacenter market. OCC consolidated Centric Solutions for financial reporting purposes and a non-controlling interest was recorded for the other members interests in the net assets and operations of Centric Solutions to the extent of the non-controlling members investment. Effective February 1, 2016, OCC purchased, for a nominal amount, the membership interest in Centric Solutions of one of the non-controlling members, and Centric Solutions purchased, for a nominal amount, and retired the membership units of the remaining non-controlling member. As a result, Centric Solutions became a wholly owned subsidiary of OCC. OCC continues to consolidate Centric Solutions for financial reporting purposes, however, beginning in the second quarter of fiscal year 2016, the Company no longer records a non-controlling interest in its condensed consolidated financial statements. From time to time, the Company is involved in various claims, legal actions and regulatory reviews arising in the ordinary course of business. In the opinion of management, the ultimate disposition of these matters will not have a material adverse effect on the Company s financial position, results of operations or liquidity. In May 2014, the FASB issued Accounting Standards Update 2014-09, Revenue from Contracts with Customers ( ASU 2014-09 ). ASU 2014-09 is a comprehensive new revenue recognition model that expands disclosure requirements and requires an entity to recognize revenue when promised goods or services are transferred to a customer at an amount that reflects the consideration it expects to receive in exchange for those goods or services. In August 2015, the FASB issued Accounting Standards Update 2015-14, Revenue from Contracts with Customers (Topic 606): Deferral of the Effective Date ( ASU 2015-14 ) which defers the effective date of the new revenue recognition standard by one year. Under ASU 2015-14, the new revenue recognition standard is effective for the Company beginning in fiscal year 2019. In March 2016, the FASB issued Accounting Standards Update 2016-08, Revenue from Contracts with Customers (Topic 606) Principle versus Agent Considerations , ( ASU 2016-08 ). ASU 2016-08 clarifies the implementation guidance on principal-versus-agent considerations. In April 2016, the FASB issued Accounting Standards Update 2016-10, Revenue from Contracts with Customers (Topic 606) Identifying Performance Obligations and Licensing ( ASU 2016-10 ). ASU 2016-10 clarifies two aspects of Topic 606: identifying performance obligation and the licensing implementation guidance, while retaining the related principles for those areas. The amendments in ASU 2016-08 and ASU 2016-10 are effective in conjunction with ASU 2015-14. The Company is currently evaluating the impact of the adoption of this guidance on the Company s results of operations, financial position and liquidity and its related financial statement disclosures. 11 Table Of Contents OPTICAL CABLE CORPORATION Condensed Notes to Condensed Consolidated Financial Statements Six Months Ended April 30, 2016 (Unaudited) In April 2015, the FASB issued Accounting Standards Update 2015-03, Simplifying the Presentation of Debt Issuance Costs ( ASU 2015-03 ). ASU 2015-03 requires debt issuance costs to be presented in the balance sheet as a direct deduction from the carrying value of the associated debt liability, consistent with the presentation of a debt discount. Prior to the issuance of the standard, debt issuance costs were required to be presented in the balance sheet as an asset. In August 2015, the FASB issued Accounting Standards Update 2015-15, Interest - Imputed Interest (Subtopic 835-30): Presentation and Subsequent Measurement of Debt Issuance Costs Associated with Line-of-Credit Arrangements ( ASU 2015-15 ) which clarifies that entities may continue to defer and present debt issuance costs associated with a line-of-credit as an asset and subsequently amortize the deferred costs ratably over the term of the arrangement. This guidance is effective for fiscal years, and interim periods within those years, beginning after December 15, 2015, with early adoption permitted. The new guidance must be applied retrospectively to all prior reporting periods presented. The adoption of ASUs 2015-03 and 2015-15 are not expected to have a material impact on the Company s results of operations, financial position or liquidity or its related financial statement disclosures. In July 2015, the FASB issued Accounting Standards Update 2015-11, Simplifying the Measurement of Inventory ( ASU 2015-11 ). ASU 2015-11 changes the inventory valuation method from lower of cost or market to lower of cost and net realizable value for inventory valued using first-in, first-out or average cost. Net realizable value is the estimated selling prices in the ordinary course of business, less reasonably predictable costs of completion, disposal, and transportation. ASU 2015-11 is effective for fiscal years beginning after December 15, 2016, including interim periods within those fiscal years, and should be applied prospectively with early adoption permitted. The adoption of ASU 2015-11 is not expected to have any impact on the Company s results of operations, financial position or liquidity or its related financial statement disclosures. In November 2015, the FASB issued Accounting Standards Update 2015-17, Income Taxes ( ASU 2015-17 ). ASU 2015-17 requires that deferred tax liabilities and assets be classified as noncurrent in a classified statement of financial position. ASU 2015-17 is effective for financial statements issued for annual periods beginning after December 15, 2016, and interim periods within those periods, with early adoption permitted. The Company is currently evaluating the impact of the adoption of this guidance on its financial position and related financial statement disclosures. 12 Table Of Contents OPTICAL CABLE CORPORATION Condensed Notes to Condensed Consolidated Financial Statements Six Months Ended April 30, 2016 (Unaudited) In February 2016, the FASB issued Accounting Standards Update 2016-02, Leases ( ASU 2016-02 ). ASU 2016-02 requires the recognition of a separate lease liability representing the required lease payments over the lease term and a separate lease asset representing the right to use the underlying asset during the same lease term. Additionally, this ASU provides clarification regarding the identification of certain components of contracts that would represent a lease as well as requires additional disclosures to the notes of the financial statements. ASU 2016-02 is effective for fiscal years beginning after December 15, 2018, including interim periods within that reporting period with early adoption permitted. The Company is currently evaluating the impact of the adoption of this guidance on its results of operations, financial position and liquidity and its related financial statement disclosures. In March 2016, the FASB issued Accounting Standards Update 2016-09, Compensation - Stock Compensation (Topic 718): Improvements to Employee Share-Based Payment Accounting ( ASU 2016-09 ). ASU 2016-09 simplifies several aspects related to the accounting for share-based payment transactions, including the accounting for income taxes, forfeitures, statutory tax withholding requirements and classification on the statement of cash flows. ASU 2016-09 is effective for fiscal years beginning after December 15, 2016, including interim periods within that reporting period, with early adoption permitted. The Company is currently evaluating the impact of the adoption of this guidance on its results of operations, financial position and liquidity and its related financial statement disclosures. There are no other new accounting standards issued, but not yet adopted by the Company, which are expected to materially impact the Company s financial position, operating results or financial statement disclosures. 13 Table Of Contents Â°Item 2. Management s Discussion and Analysis of Financial Condition and Results of Operations Forward-Looking Information This Form 10-Q may contain certain forward-looking information within the meaning of the federal securities laws. The forward-looking information may include, among other information, (i) statements concerning our outlook for the future, (ii) statements of belief, anticipation or expectation, (iii) future plans, strategies or anticipated events, and (iv) similar information and statements concerning matters that are not historical facts. Such forward-looking information is subject to known and unknown variables, uncertainties, contingencies and risks that may cause actual events or results to differ materially from our expectations. Such known and unknown variables, uncertainties, contingencies and risks (collectively, factors ) may also adversely affect Optical Cable Corporation and its subsidiaries (collectively, the Company or OCC ), the Company s future results of operations and future financial condition, and/or the future equity value of the Company. Factors that could cause or contribute to such differences from our expectations or that could adversely affect the Company include, but are not limited to: the level of sales to key customers, including distributors; timing of certain projects and purchases by key customers; the economic conditions affecting network service providers; corporate and/or government spending on information technology; actions by competitors; fluctuations in the price of raw materials (including optical fiber, copper, gold and other precious metals, and plastics and other materials); fluctuations in transportation costs; our dependence on customized equipment for the manufacture of certain of our products in certain production facilities; our ability to protect our proprietary manufacturing technology; market conditions influencing prices or pricing in one or more of the markets in which we participate; our dependence on a limited number of suppliers; the loss of or conflict with one or more key suppliers or customers; an adverse outcome in litigation, claims and other actions, and potential litigation, claims and other actions against us; an adverse outcome in regulatory reviews and audits and potential regulatory reviews and audits; adverse changes in state tax laws and/or positions taken by state taxing authorities affecting us; technological changes and introductions of new competing products; changes in end-user preferences for competing technologies, relative to our product offering; economic conditions that affect the telecommunications sector, the data communications sector, certain technology sectors and/or certain industry market sectors (for example, mining, oil gas, military and wireless carrier industry market sectors); economic conditions that affect U.S. based manufacturers; economic conditions or changes in relative currency strengths (for example, the strengthening of the U.S. dollar relative to certain foreign currencies) that affect certain geographic markets, the relative costs of U.S. products exported, and/or the economy as a whole; changes in demand for our products from certain competitors for which we provide private label connectivity products; changes in the mix of products sold during any given period (due to, among other things, seasonality or strength or weaknesses in particular markets in which we participate) which may impact gross profits and gross profit margins or net sales; variations in orders and production volumes of hybrid cables (fiber and copper) with high copper content, which tend to have lower gross profit margins; variations resulting from high volatility, large sales orders and high sales concentration among a limited number of customers in the wireless carrier market; terrorist attacks or acts of war, and any current or potential future military conflicts; changes in the level of military spending or other spending by the United States government, including, but not limited to reductions in government spending due to automatic budget cuts or sequestration; ability to recruit and retain key personnel; poor labor relations; the impact of changes in accounting policies and related costs of compliance, including changes by the Securities and Exchange Commission ( SEC ), the Public Company Accounting Oversight Board ( PCAOB ), the Financial Accounting Standards Board ( FASB ), and/or the International Accounting Standards Board ( IASB ); our ability to continue to successfully comply with, and the cost of compliance with, the provisions of Section 404 of the Sarbanes-Oxley Act of 2002 or any revisions to that act which apply to us; the impact of changes and potential changes in federal laws and regulations adversely affecting our business and/or which result in increases in our direct and indirect costs, including our direct and indirect costs of compliance with such laws and regulations; the impact of the Patient Protection and Affordable Care Act of 2010, the Health Care and Education Reconciliation Act of 2010, and any revisions to those acts that apply to us and the related legislation and regulation associated with those acts, which directly or indirectly results in increases to our costs; the impact of changes in state or federal tax laws and regulations increasing our costs and/or impacting the net return to investors owning our shares; any changes in the status of our compliance with financial debt covenants with our lender; our ability to maintain and/or secure debt financing and/or equity financing to adequately finance our ongoing operations; the impact of future consolidation among competitors and/or among customers adversely affecting our position with our customers and/or our market position; actions by customers adversely affecting us in reaction to the expansion of our product offering in any manner, including, but not limited to, by offering products that compete with our customers, and/or by entering into alliances with, making investments in or with, and/or acquiring parties that compete with and/or have conflicts with our customers; voluntary or involuntary delisting of the Company s common stock from any exchange on which it is traded; the deregistration by the Company from SEC reporting requirements, as a result of the small number of holders of the Company s common stock; a continued suspension of dividends declared to shareholders due to inadequate or alternative uses of cash on hand; adverse reactions by customers, vendors or other service providers to unsolicited proposals regarding the ownership or management of the Company; the additional costs of considering, responding to and possibly defending our position on unsolicited proposals regarding the ownership or management of the Company; impact of weather or natural disasters in the areas of the world in which we operate, market our products and/or acquire raw materials; an increase in the number of shares of the Company s common stock issued and outstanding; further economic downturns generally and/or in one or more of the markets in which we operate; changes in market demand, exchange rates, productivity, market dynamics, market confidence, macroeconomic and/or other economic conditions in the areas of the world in which we operate and market our products; and our success in managing the risks involved in the foregoing. 14 Table Of Contents We caution readers that the foregoing list of important factors is not exclusive. Furthermore, we incorporate by reference those factors included in current reports on Form 8-K, and/or in our other filings. Dollar amounts presented in the following discussion have been rounded to the nearest hundred thousand, except in the case of amounts less than one million and except in the case of the table set forth in the Results of Operations section, the amounts in which both cases have been rounded to the nearest thousand. Overview of Optical Cable Corporation Optical Cable Corporation (or OCC ) is a leading manufacturer of a broad range of fiber optic and copper data communication cabling and connectivity solutions primarily for the enterprise market and various harsh environment and specialty markets (the non-carrier markets), offering integrated suites of high quality products which operate as a system solution or seamlessly integrate with other providers offerings. Our product offerings include designs for uses ranging from enterprise network, datacenter, residential and campus installations to customized products for specialty applications and harsh environments, including military, industrial, mining, petrochemical and broadcast applications, and for the wireless carrier market. Our products include fiber optic and copper cabling, fiber optic and copper connectors, specialty fiber optic and copper connectors, fiber optic and copper patch cords, pre-terminated fiber optic and copper cable assemblies, racks, cabinets, datacom enclosures, patch panels, face plates, multi-media boxes, fiber optic reels and accessories and other cable and connectivity management accessories, and are designed to meet the most demanding needs of end-users, delivering a high degree of reliability and outstanding performance characteristics. OCC is internationally recognized for pioneering the design and production of fiber optic cables for the most demanding military field applications, as well as of fiber optic cables suitable for both indoor and outdoor use, and creating a broad product offering built on the evolution of these fundamental technologies. OCC is also internationally recognized for pioneering the development of innovative copper connectivity technology and designs used to meet industry copper connectivity data communications standards. 15 Table Of Contents Founded in 1983, Optical Cable Corporation is headquartered in Roanoke, Virginia with offices, manufacturing and warehouse facilities located in Roanoke, Virginia, near Asheville, North Carolina and near Dallas, Texas. We primarily manufacture our fiber optic cables at our Roanoke facility which is ISO 9001:2008 registered and MIL-STD-790F certified, our enterprise connectivity products at our Asheville facility which is ISO 9001:2008 registered, and our harsh environment and specialty connectivity products at our Dallas facility which is ISO 9001:2008 registered and MIL-STD-790F certified. OCC designs, develops and manufactures fiber optic cables for a broad range of enterprise, harsh environment and specialty markets and applications. We refer to these products as our fiber optic cable offering. OCC designs, develops and manufactures fiber and copper connectivity products for the enterprise market, including a broad range of enterprise and residential applications. We refer to these products as our enterprise connectivity product offering. OCC designs, develops and manufactures a broad range of specialty fiber optic connectors and connectivity solutions principally for use in military, harsh environment and other specialty applications. We refer to these products as our harsh environment and specialty connectivity product offering. We market and sell the products manufactured at our Dallas facility through our wholly owned subsidiary Applied Optical Systems, Inc. ( AOS ) under the names Optical Cable Corporation and OCC by the efforts of our integrated OCC sales team. The OCC team seeks to provide top-tier communication solutions by bundling all of our fiber optic and copper data communication product offerings into systems that are best suited for individual data communication needs and application requirements of our customers and the end-users of our systems. Effective February 1, 2016, Optical Cable Corporation increased its ownership of Centric Solutions LLC ( Centric Solutions ) to 100%. Centric Solutions is a business founded in 2008 that provides turnkey cabling and connectivity solutions for the datacenter market. Centric Solutions operates and goes to market independently from Optical Cable Corporation; however, in some cases, Centric Solutions may offer products from OCC s product offering. Centric Solutions facility lease expired November 30, 2015 and was not renewed. OCC has transitioned Centric Solutions business to OCC s facility near Dallas, Texas. Optical Cable Corporation, OCC , Procyon , Procyon Blade , Superior Modular Products , SMP Data Communications , Applied Optical Systems , Centric Solutions and associated logos are trademarks of Optical Cable Corporation. Summary of Company Performance for Second Quarter and first half of Fiscal Year 2016 16 Table Of Contents Results of Operations We sell our products internationally and domestically through our sales force to our customers, which include major distributors, various regional and smaller distributors, original equipment manufacturers and value-added resellers. All of our sales to customers outside of the United States are denominated in U.S. dollars. We can experience fluctuations in the percentage of net sales to customers outside of the United States and in the United States from period to period based on the timing of large orders, coupled with the impact of increases and decreases in sales to customers in various regions of the world. Net sales consist of gross sales of products less discounts, refunds and returns. Revenue is recognized at the time of product shipment or delivery to the customer (including distributors) provided that the customer takes ownership and assumes risk of loss (based on shipping terms), collection of the relevant receivable is probable, persuasive evidence of an arrangement exists and the sales price is fixed or determinable. Our customers generally do not have the right of return unless a product is defective or damaged and is within the parameters of the product warranty in effect for the sale. Cost of goods sold consists of the cost of materials, product warranty costs and compensation costs, and overhead and other costs related to our manufacturing operations. The largest percentage of costs included in cost of goods sold is attributable to costs of materials. Our gross profit margin percentages are heavily dependent upon product mix on a quarterly basis and may vary based on changes in product mix. To the extent not negatively impacted by product mix, gross profit margins tend to be higher when we achieve higher net sales levels, as certain fixed manufacturing costs are spread over higher sales. Selling, general and administrative expenses ( SG A expenses ) consist of the compensation costs for sales and marketing personnel, shipping costs, trade show expenses, customer support expenses, travel expenses, advertising, bad debt expense, the compensation costs for administration and management personnel, legal, accounting, advisory and professional fees, costs incurred to settle litigation or claims and other actions against us, and other costs associated with our operations. 17 Table Of Contents Royalty expense, net consists of royalty and related expenses, net of royalty income earned, if any, on licenses associated with our patented products. Amortization of intangible assets consists of the amortization of the costs, including legal fees, associated with internally developed patents that have been granted. Amortization of intangible assets is calculated using the straight line method over the estimated useful lives of the intangible assets. Other expense, net consists of interest expense and other miscellaneous income and expense items not directly attributable to our operations. The following table sets forth and highlights fluctuations in selected line items from our condensed consolidated statements of operations for the periods indicated: Three Months Ended April 30, 2016 and 2015 Net Sales Consolidated net sales for the second quarter of fiscal year 2016 decreased 12.5% to $16.3 million compared to net sales of $18.7 million for the same period last year. We experienced a decrease in net sales in both our enterprise and specialty markets in the second quarter of fiscal year 2016, compared to the same period last year. Sequentially, net sales increased 16.3% in the second quarter of fiscal year 2016, compared to net sales of $14.0 million for the first quarter of fiscal year 2016. During the second quarter of fiscal year 2016, OCC s net sales continued to be negatively impacted by the decrease in demand we experienced during the second half of fiscal year 2015 in the oil gas and mining specialty markets markets experiencing macroeconomic weakness. Many of our products for these specialty markets require specific product and solution expertise and tend to generate higher gross profit margins. We are also continuing to see downward pressure on pricing in certain markets, particularly the wireless carrier market. Net sales outside the U.S. were also negatively impacted by a strong U.S. dollar relative to other currencies, particularly in certain geographic regions. Net sales to customers outside of the U.S. decreased 16.2% in the second quarter of fiscal year 2016, compared to the same period last year. Gross Profit Our gross profit decreased 19.7% to $4.6 million in the second quarter of fiscal year 2016 compared to $5.7 million in the second quarter of fiscal year 2015. Gross profit margin, or gross profit as a percentage of net sales, was 27.9% in the second quarter of fiscal year 2016 compared to 30.4% in the second quarter of fiscal year 2015. 18 Table Of Contents Sequentially, gross profit increased 29.9% in the second quarter of fiscal year 2016, compared to gross profit for the first quarter of fiscal year 2016, with an increase in gross profit margin, or gross profit as a percentage of net sales, to 27.9% in the second quarter of fiscal year 2016, compared to 24.9% in the first quarter of fiscal year 2016. The OCC team implemented cost reductions near the end of fiscal year 2015 and during the first quarter of fiscal year 2016, which we expect will continue to positively impact cost of goods sold, gross profit and SG A expenses in fiscal year 2016. The cost reductions implemented include personnel cost reductions at the end of fiscal year 2015 expected to save approximately $1.0 million per year, beginning in fiscal year 2016, and are expected to positively impact cost of goods sold and gross profit. Net sales decreases in certain specialty markets and pricing pressures in certain markets, particularly the wireless carrier market, negatively impacted gross profits during the second quarter of fiscal year 2016, compared to the same period last year. The lower gross profit margin in the second quarter of fiscal year 2016 when compared to the same period last year was primarily due to lower sales volumes overall. Additionally, the sale of certain lower margin products negatively impacted our gross profit margin. Our gross profit margin percentages are also heavily dependent upon product mix on a quarterly basis and may vary based on changes in product mix. Selling, General, and Administrative Expenses SG A expenses decreased 17.3% to $5.4 million during the second quarter of fiscal year 2016, compared to $6.5 million for the same period last year. SG A expenses as a percentage of net sales were 32.8% in the second quarter of fiscal year 2016, compared to 34.7% in the second quarter of fiscal year 2015. The decrease in SG A expenses during the second quarter of fiscal year 2016 compared to the same period last year was the result of targeted cost reduction efforts across all expense categories. The most significant savings were achieved from reduced employee related expenses of $308,000, reduced marketing expenses of $215,000, reduced shipping costs of $88,000 and reduced travel and entertainment expenses of $119,000, all excluding expenses incurred by Centric Solutions. Separately, SG A costs associated with Centric Solutions were reduced by $122,000. Compensation costs decreased when comparing the second quarter of fiscal year 2016 to the comparable period in fiscal year 2015 primarily as a result of the personnel cost reduction implemented at the end of fiscal year 2015 and decreases in commissions due to decreased net sales. Shipping costs also decreased as net sales decreased. The reductions in marketing expenses and travel and sales expenses were primarily the result of the targeted efforts to control costs. On November 30, 2015, Centric Solutions operating lease expired, and Centric Solutions began sharing office and manufacturing space with OCC in our facility near Dallas, Texas. In connection with the move, certain positions were also eliminated. As a result, both reduced employee related costs and reduced rent expense contributed to the decrease in SG A expenses of Centric Solutions when comparing the second quarter of fiscal year 2016 to the same period in fiscal year 2015. Royalty Expense, Net We recognized royalty expense, net of royalty income, totaling $52,000 during the second quarter of fiscal year 2016, compared to $34,000 during the same period last year. We expect the trend of royalty expense largely or completely offsetting royalty income to continue in fiscal year 2016 as a result of the decline in royalty income due to the expiration of patents for licensed products. 19 Table Of Contents Amortization of Intangible Assets We recognized $4,000 of amortization expense, associated with intangible assets, during the second quarter of fiscal year 2016, compared to $3,000 during the second quarter of fiscal year 2015. Other Expense, Net We recognized other expense, net in the second quarter of fiscal year 2016 of $137,000 compared to $97,000 in the second quarter of fiscal year 2015. Other expense, net is comprised of interest expense and other miscellaneous items which may fluctuate from period to period. Loss Before Income Taxes We reported a loss before income taxes of $993,000 for the second quarter of fiscal year 2016, compared to $939,000 for the second quarter of fiscal year 2015. Although the decrease in gross profit of $1.1 million was offset by the decrease in SG A expenses of $1.1 million, compared to the same period in 2015, other smaller increases in expenses contributed to the $54,000 increase. Income Tax Benefit Income tax benefit totaled $10,000 in the second quarter of fiscal year 2016, compared to $431,000 for the same period in fiscal year 2015. Our effective tax rate for the second quarter of fiscal year 2016 was less than one percent compared to 45.9% for the second quarter of fiscal year 2015. Generally, fluctuations in our effective tax rates are primarily due to permanent differences in U.S. GAAP and tax accounting for various tax deductions and benefits, but can also be significantly different from the statutory tax rate when income or loss before taxes is at a level such that permanent differences in U.S. GAAP and tax accounting treatment have a disproportional impact on the projected effective tax rate. During fiscal year 2015, we established a $2.4 million valuation allowance against all of our net deferred tax assets. As a result of establishing a full valuation allowance against our net deferred tax assets, if we generate sufficient taxable income in future periods to realize a portion or all of our net deferred tax assets, our effective income tax rate could be unusually low due to the tax benefit attributable to the necessary decrease in our valuation allowance. Further, if we generate losses before taxes in future periods, as we did in the second quarter of fiscal year 2016, our effective income tax rate could also be unusually low, as any increase in our net deferred tax asset from such a net operating loss for tax purposes, would be offset by a corresponding increase to our valuation allowance against our net deferred tax assets. If we generate sufficient income before taxes in future periods such that U.S. GAAP would permit us to conclude that the removal of any valuation allowance against our net deferred tax asset is appropriate, then during the period in which such determination is made, we will recognize the non-cash benefit of such removal of the valuation allowance in income tax expense on our consolidated statement of operations, which will increase net income attributable to OCC and will also increase the net deferred tax asset on our consolidated balance sheet. If we do not generate sufficient income before taxes in future periods such that U.S. GAAP would permit us to conclude that the reduction or removal of any valuation allowance against our net deferred tax is appropriate, then no such non-cash benefit would be realized. There can be no assurance regarding any future realization of the benefit by us of all or part of our net deferred tax assets. 20 Table Of Contents Net Loss Net loss attributable to OCC for the second quarter of fiscal year 2016 was $983,000 compared to $490,000 for the second quarter of fiscal year 2015. This increase was due primarily to the decrease in income tax benefit of $421,000, in the second quarter of fiscal year 2016, compared to the same period in fiscal year 2015. Six Months Ended April 30, 2016 and 2015 Net Sales Consolidated net sales for the first half of fiscal year 2016 decreased 15.7% to $30.4 million compared to net sales of $36.0 million for the same period last year. We experienced a decrease in net sales in both our enterprise and specialty markets in the first half of fiscal year 2016, compared to the same period last year. Net sales to customers in the United States decreased 16.2% in the first half of fiscal year 2016 compared to the same period last year, and net sales to customers outside of the United States decreased 13.6%. Gross Profit Our gross profit was $8.1 million in the first half of fiscal year 2016, a decrease of 27.1% compared to $11.1 million in the first half of fiscal year 2015. Gross profit margin, or gross profit as a percentage of net sales, was 26.5% in the first half of fiscal year 2016 compared to 30.7% in the first half of fiscal year 2015. The OCC team implemented cost reductions near the end of fiscal year 2015 and during the first half of fiscal year 2016, which we expect will continue to positively impact cost of goods sold, gross profit and SG A expenses in fiscal year 2016. The cost reductions implemented include personnel cost reductions at the end of fiscal year 2015 expected to save approximately $1.0 million per year, beginning in fiscal year 2016, and are expected to positively impact cost of goods sold and gross profit. Net sales decreases in certain specialty markets and pricing pressures in certain markets, particularly the wireless carrier market, negatively impacted gross profits during the first half of fiscal year 2016, compared to the same period last year. The lower gross profit margin in the first half of fiscal year 2016 when compared to the same period last year was primarily due to lower sales volumes overall. Additionally, the sale of certain lower margin products negatively impacted our gross profit margin. Our gross profit margin percentages are also heavily dependent upon product mix on a quarterly basis and may vary based on changes in product mix. Selling, General, and Administrative Expenses SG A expenses decreased 14.4% to $10.4 million for the first half of fiscal year 2016 from $12.2 million for the same period last year. SG A expenses as a percentage of net sales were 34.4% in the first half of fiscal year 2016 compared to 33.8% in the first half of fiscal year 2015. The decrease in SG A expenses during the first half of fiscal year 2016 compared to the same period last year was the result of targeted cost reduction efforts across all expense categories. The most significant savings were achieved from reduced employee related expenses of $468,000, reduced marketing expenses of $295,000, reduced shipping costs of $161,000 and reduced travel and entertainment expenses of $187,000, all excluding expenses incurred by Centric Solutions. Separately, SG A costs associated with Centric Solutions were reduced by $224,000. Compensation costs decreased when comparing the first half of fiscal year 2016 to the comparable period in fiscal year 2015 primarily as a result of the personnel cost reduction implemented at the end of fiscal year 2015 and decreases in commissions due to decreased net sales. Shipping costs also decreased as net sales decreased. The reductions in marketing expenses and travel and sales expenses were primarily the result of the targeted efforts to control costs. 21 Table Of Contents On November 30, 2015, Centric Solutions operating lease expired, and Centric Solutions began sharing office and manufacturing space with OCC in our facility near Dallas, Texas. In connection with the move, certain positions were also eliminated. As a result, both reduced employee related costs and reduced rent expense contributed to the decrease in SG A expenses of Centric Solutions when comparing the first half of fiscal year 2016 to the same period in fiscal year 2015. Royalty Expense, Net We recognized royalty expense, net of royalty income, totaling $66,000 during the first half of fiscal year 2016, compared to $90,000 during the same period last year. We expect the trend of royalty expense largely or completely offsetting royalty income to continue in fiscal year 2016 as a result of the decline in royalty income due to the expiration of patents for licensed products. Amortization of Intangible Assets We recognized $7,000 of amortization expense, associated with intangible assets, for the first half of fiscal year 2016, compared to amortization expense of $5,000 during the first half of fiscal year 2015. Other Expense, Net We recognized other expense, net in the first half of fiscal year 2016 of $277,000 compared to $201,000 in the first half of fiscal year 2015. Other expense, net is comprised of interest expense and other miscellaneous items which may fluctuate from period to period. Loss Before Income Taxes We reported a loss before income taxes of $2.7 million for the first half of fiscal year 2016 compared to $1.4 million for the first half of fiscal year 2015. This increase was primarily due to the decrease in gross profit of $3.0 million, partially offset by the decrease in SG A expenses of $1.8 million in the first half of fiscal year 2016, compared to the same period in 2015. Income Tax Expense (Benefit) Income tax expense totaled $14,000 in the first half of fiscal year 2016 compared to income tax benefit of $676,000 for the same period in fiscal year 2015. Our effective tax rate for the first half of fiscal year 2016 was less than negative one percent compared to 47.1% for the first half of fiscal year 2015. Generally, fluctuations in our effective tax rates are primarily due to permanent differences in U.S. GAAP and tax accounting for various tax deductions and benefits, but can also be significantly different from the statutory tax rate when income or loss before taxes is at a level such that permanent differences in U.S. GAAP and tax accounting treatment have a disproportional impact on the projected effective tax rate. During fiscal year 2015, we established a $2.4 million valuation allowance against all of our net deferred tax assets. As a result of establishing a full valuation allowance against our net deferred tax assets, if we generate sufficient taxable income in future periods to realize a portion or all of our net deferred tax assets, our effective income tax rate could be unusually low due to the tax benefit attributable to the necessary decrease in our valuation allowance. Further, if we generate losses before taxes in future periods, as we did in the first half of fiscal year 2016, our effective income tax rate could also be unusually low, as any increase in our net deferred tax asset from such a net operating loss for tax purposes, would be offset by a corresponding increase to our valuation allowance against our net deferred tax assets. 22 Table Of Contents If we generate sufficient income before taxes in future periods such that U.S. GAAP would permit us to conclude that the removal of any valuation allowance against our net deferred tax asset is appropriate, then during the period in which such determination is made, we will recognize the non-cash benefit of such removal of the valuation allowance in income tax expense on our consolidated statement of operations, which will increase net income attributable to OCC and will also increase the net deferred tax asset on our consolidated balance sheet. If we do not generate sufficient income before taxes in future periods such that U.S. GAAP would permit us to conclude that the reduction or removal of any valuation allowance against our net deferred tax is appropriate, then no such non-cash benefit would be realized. There can be no assurance regarding any future realization of the benefit by us of all or part of our net deferred tax assets. Net Loss Net loss attributable to OCC for the first half of fiscal year 2016 was $2.7 million compared to $718,000 for the first half of fiscal year 2015. This increase was due primarily to the increase in the loss before taxes of $1.3 million and the increase in income tax expense of $690,000, in the first half of fiscal year 2016, compared to the same period in fiscal year 2015. Financial Condition Total assets decreased $2.8 million, or 6.3%, to $42.2 million at April 30, 2016, from $45.0 million at October 31, 2015. This decrease was primarily due to a $1.3 million decrease in inventories, a $422,000 decrease in cash and a $322,000 decrease in trade accounts receivable, net. Further detail regarding the decrease in cash is provided in our discussion of Liquidity and Capital Resources . The decrease in inventories is largely due to the sale of stock inventory that was not replenished to previous levels and the timing of certain raw material purchases. The decrease in trade accounts receivable, net largely resulted from the decrease in net sales in the second quarter of fiscal year 2016 when compared to the fourth quarter of fiscal year 2015 and the timing of collections. Total liabilities decreased $533,000, or 2.8%, to $18.6 million at April 30, 2016, from $19.1 million at October 31, 2015. The decrease in total liabilities was primarily due to the timing of vendor payments. Total shareholders equity attributable to OCC at April 30, 2016 decreased $3.0 million in the first half of fiscal year 2016. The decrease resulted primarily from the net loss attributable to OCC of $2.7 million and the purchase of the non-controlling interest in Centric Solutions for a minimal amount resulting in a net adjustment to total shareholders equity attributable to OCC of $764,000, partially offset by share-based compensation, net of $449,000. Liquidity and Capital Resources Our primary capital needs during the first half of fiscal year 2016 have been to fund capital expenditures and working capital requirements. Our primary source of capital for these purposes has been existing cash and cash provided by operations. As of April 30, 2016 and October 31, 2015, we had outstanding loan balances under our revolving credit facilities totaling $6.0 million. As of April 30, 2016 and October 31, 2015, we had outstanding loan balances, excluding our revolving credit facility, totaling $7.1 million and $7.2 million, respectively. Our cash totaled $661,000 as of April 30, 2016, a decrease of $422,000, compared to $1.1 million as of October 31, 2015. The decrease in cash for the six months ended April 30, 2016 primarily resulted from capital expenditures totaling $507,000 and net cash used in financing activities totaling $464,000, partially offset by cash provided by operating activities of $598,000. 23 Table Of Contents On April 30, 2016, we had working capital of $20.8 million compared to $23.5 million on October 31, 2015. The ratio of current assets to current liabilities as of April 30, 2016 was 4.4 to 1 compared to 5.2 to 1 as of October 31, 2015. The decrease in working capital and in the current ratio was primarily due to the $1.3 million decrease in inventories, the $422,000 decrease in cash, the $322,000 decrease in accounts receivable, net, and a $500,000 increase in current maturities of note payable to bank. Net Cash Net cash provided by operating activities was $598,000 in the first half of fiscal year 2016, compared to $350,000 in the first half of fiscal year 2015. Net cash provided by operating activities during the first half of fiscal year 2016 primarily resulted from certain adjustments to reconcile a net loss of $2.8 million to net cash provided by operating activities including depreciation, amortization and accretion of $998,000 and share-based compensation expense of $514,000. Additionally, the cash flow impact of decreases in accounts receivable, net of $310,000, decreases in inventories of $1.3 million and increases in accounts payable and accrued expense of $596,000 further contributed to net cash provided by operating activities. Net cash provided by operating activities during the first half of fiscal year 2015 primarily resulted from certain adjustments to reconcile a net loss of $760,000 to net cash provided by operating activities including depreciation, amortization and accretion of $997,000 and share-based compensation expense of $638,000. Additionally, the cash flow impact of decreases in accounts receivable, net of $4.0 million further contributed to net cash provided by operating activities. All of the aforementioned factors positively affecting cash provided by operating activities were partially offset by the cash flow impact of decreases in accounts payable and accrued expenses, including accrued compensation and payroll taxes, of $2.1 million and the increase in inventories of $1.2 million. Net cash used in investing activities totaled $556,000 in the first half of fiscal year 2016, compared to $1.9 million in the first half of fiscal year 2015. Net cash used in investing activities during the first half of fiscal years 2016 and 2015 resulted primarily from purchases of property and equipment and deposits for the purchase of property and equipment. Net cash used in financing activities totaled $464,000 in the first half of fiscal year 2016, compared to net cash provided by financing activities of $1.1 million in the first half of fiscal year 2015. Net cash used in financing activities in the first half of fiscal year 2016 resulted primarily from the payment of dividends previously declared totaling $141,000, principal payments on long-term debt totaling $139,000 and refinancing costs totaling $118,000. Net cash provided by financing activities in the first half of fiscal year 2015 resulted primarily from proceeds from a note payable to our bank under our line of credit, net of repayments, of $2.0 million, partially offset by the $272,000 payment of dividends previously declared and the repurchase and retirement of 79,036 shares of our common stock for $374,000. Credit Facilities We have credit facilities consisting of a real estate term loan, as amended and restated (the Virginia Real Estate Loan ), a supplemental real estate term loan, as amended and restated (the North Carolina Real Estate Loan ) and a revolving credit facility. Both the Virginia Real Estate Loan and the North Carolina Real Estate Loan are with Bank of North Carolina ( BNC ), have a fixed interest rate of 4.25% and are secured by a first priority lien on all of our personal property and assets, all money, goods, machinery, equipment, fixtures, inventory, accounts, chattel paper, letter of credit rights, deposit accounts, commercial tort claims, documents, instruments, investment property and general intangibles now owned or hereafter acquired by us and wherever located, as well as a first lien deed of trust on the Company s real property. 24 Table Of Contents On April 26, 2016, we entered into a Credit Agreement and a Revolving Credit Note ( Revolver ) with BNC to provide the Company with a $7.0 million revolving line of credit ( Revolving Loan ) for our working capital needs and which replaced the entire indebtedness we had with SunTrust Bank ( SunTrust ). Under the Credit Agreement and Revolver, BNC agreed to provide us with one or more revolving loans in a collective maximum principal amount of $7.0 million until February 28, 2017, at which time the Revolving Loan will step down to a maximum principal amount of $6.5 million. On February 28, 2018, the maximum principal amount will again step down to $6.0 million and remain as such until the Revolving Loan terminates. We may borrow, repay, and reborrow at any time or from time to time while the Revolving Loan is in effect. We paid $70,000 to BNC as a fee for the Revolving Loan and incurred closing fees and costs of approximately $41,000. The Revolving Loan accrues interest at adjusted LIBOR plus 3.65% (resulting in a 4.13% rate at April 30, 2016). The Revolving Loan is payable in monthly payments of interest only with principal and any outstanding interest due and payable at maturity. Maturity for the Revolving Loan is February 28, 2018, unless extended. The Revolving Loan is secured by a perfected first lien security interest on all assets, including but not limited to, accounts, as-extracted collateral, chattel paper, commodity accounts, commodity contracts, deposit accounts, documents, equipment, fixtures, furniture, general intangibles, goods, instruments, inventory, investment property, letter of credit rights, payment intangibles, promissory notes, software and general tangible and intangible assets owned now or later acquired. The Revolving Loan is also cross-collateralized with our real property. The Revolving Loan replaced the Commercial Loan we had with SunTrust. Under the terms of the Commercial Loan, we could borrow an aggregate principal amount at any one time outstanding not to exceed the lesser of (i) $9.0 million, or (ii) the sum of 85% of certain receivables aged 90 days or less plus 35% of the lesser of $1.0 million or certain foreign receivables plus 25% of certain raw materials inventory. Also on April 26, 2016, the Company, as borrower, and BNC, as lender, entered into an amended and restated Virginia Real Estate Loan and North Carolina Real Estate Loan in the amount of $5,271,411 and $1,816,609, respectively. As of April 30, 2016, we had $6.0 million of outstanding borrowings on our Revolving Loan and $1.0 million in available credit. Capital Expenditures We did not have any material commitments for capital expenditures as of April 30, 2016. During our 2016 fiscal year budgeting process, we included an estimate for capital expenditures of $1.8 million for the year. These expenditures will be funded out of our working capital or borrowings under our credit facilities. Capital expenditures are reviewed and approved based on a variety of factors including, but not limited to, current cash flow considerations, the expected return on investment, project priorities, impact on current or future product offerings, availability of personnel necessary to implement and begin using acquired equipment, and economic conditions in general. Historically, we have spent less than our budgeted capital expenditures in most fiscal years. Corporate acquisitions and other strategic investments, if any, are considered outside of our annual capital expenditure budgeting process. 25 Table Of Contents Future Cash Flow Considerations We believe that our future cash flow from operations, our cash on hand and our existing credit facilities or any additional credit facilities we may originate will be adequate to fund our operations for at least the next twelve months. From time to time, we are involved in various claims, legal actions and regulatory reviews arising in the ordinary course of business. In the opinion of management, the ultimate disposition of these matters will not have a material adverse effect on our financial position, results of operations or liquidity. Seasonality Historically, net sales are relatively lower in the first half of each fiscal year and relatively higher in the second half of each fiscal year, which we believe may be partially due to the construction cycles, buying patterns and budgetary considerations of our customers. For example, our trend for the last three fiscal years has been that an average of approximately 49%, 44% and 48% of our net sales occurred during the first half of fiscal years 2015, 2014 and 2013, respectively, and an average of approximately 51%, 56% and 52% of our net sales occurred during the second half of fiscal years 2015, 2014 and 2013, respectively. We believe net sales may not follow this pattern in periods when overall economic conditions in the industry and/or in the world are atypical. As a result, we typically expect net sales to be relatively lower in the first half of each fiscal year and relatively higher in the second half of each fiscal year. We believe this historical seasonality pattern is generally indicative of an overall trend and reflective of the construction cycles, buying patterns and budgetary cycles of our customers. However, this pattern may be substantially altered during any quarter or year by the timing of larger projects, timing of orders from larger customers, other economic factors impacting our industry or impacting the industries of our customers and end-users and macroeconomic conditions. While we believe seasonality may be a factor that impacts our quarterly net sales results, we are not able to reliably predict net sales based on seasonality because these other factors can also substantially impact our net sales patterns during the year. Critical Accounting Policies and Estimates Our discussion and analysis of financial condition and results of operations is based on the condensed consolidated financial statements and accompanying condensed notes that have been prepared in accordance with U.S. generally accepted accounting principles ( U.S. GAAP ) for interim financial reporting information and the instructions to Form 10-Q and Regulation S-X. The preparation of these condensed consolidated financial statements requires management to make estimates and assumptions that affect the reported amounts of assets and liabilities and the disclosure of contingent assets and liabilities at the date of the condensed consolidated financial statements and the reported amounts of revenues and expenses during the reporting period. Actual results could differ from those estimates. Note 1 to the consolidated financial statements filed with our Annual Report on Form 10-K for fiscal year 2015 provides a summary of our significant accounting policies. Those significant accounting policies detailed in our fiscal year 2015 Form 10-K did not change during the period from November 1, 2015 through April 30, 2016. New Accounting Standards In May 2014, the FASB issued Accounting Standards Update 2014-09, Revenue from Contracts with Customers ( ASU 2014-09 ). ASU 2014-09 is a comprehensive new revenue recognition model that expands disclosure requirements and requires an entity to recognize revenue when promised goods or services are transferred to a customer at an amount that reflects the consideration it expects to receive in exchange for those goods or services. In August 2015, the FASB issued Accounting Standards Update 2015-14 , Revenue from Contracts with Customers (Topic 606): Deferral of the Effective Date ( ASU 2015-14 ) which defers the effective date of the new revenue recognition standard by one year. Under ASU 2015-14, the new revenue recognition standard is effective for the Company beginning in fiscal year 2019. In March 2016, the FASB issued Accounting Standards Update 2016-08, Revenue from Contracts with Customers (Topic 606) Principle versus Agent Considerations , ( ASU 2016-08 ). ASU 2016-08 clarifies the implementation guidance on principal-versus-agent considerations. In April 2016, the FASB issued Accounting Standards Update 2016-10, Revenue from Contracts with Customers (Topic 606) Identifying Performance Obligations and Licensing ( ASU 2016-10 ). ASU 2016-10 clarifies two aspects of Topic 606: identifying performance obligation and the licensing implementation guidance, while retaining the related principles for those areas. The amendments in ASU 2016-08 and ASU 2016-10 are effective in conjunction with ASU 2015-14. We are currently evaluating the impact of the adoption of this guidance on our results of operations, financial position and liquidity and our related financial statement disclosures. 26 Table Of Contents In April 2015, the FASB issued Accounting Standards Update 2015-03, Simplifying the Presentation of Debt Issuance Costs ( ASU 2015-03 ). ASU 2015-03 requires debt issuance costs to be presented in the balance sheet as a direct deduction from the carrying value of the associated debt liability, consistent with the presentation of a debt discount. Prior to the issuance of the standard, debt issuance costs were required to be presented in the balance sheet as an asset. In August 2015, the FASB issued Accounting Standards Update 2015-15, Interest - Imputed Interest (Subtopic 835-30): Presentation and Subsequent Measurement of Debt Issuance Costs Associated with Line-of-Credit Arrangements ( ASU 2015-15 ) clarifies that entities may continue to defer and present debt issuance costs associated with a line-of-credit as an asset and subsequently amortize the deferred costs ratably over the term of the arrangement. This guidance is effective for fiscal years, and interim periods within those years, beginning after December 15, 2015, with early adoption permitted. The new guidance must be applied retrospectively to all prior reporting periods presented. The adoption of ASUs 2015-03 and 2015-15 are not expected to have a material impact on our results of operations, financial position or liquidity or our related financial statement disclosures. In July 2015, the FASB issued Accounting Standards Update 2015-11, Simplifying the Measurement of Inventory ( ASU 2015-11 ). ASU 2015-11 changes the inventory valuation method from lower of cost or market to lower of cost and net realizable value for inventory valued using first-in, first-out or average cost. Net realizable value is the estimated selling prices in the ordinary course of business, less reasonably predictable costs of completion, disposal, and transportation. ASU 2015-11 is effective for fiscal years beginning after December 15, 2016, including interim periods within those fiscal years, and should be applied prospectively with early adoption permitted. The adoption of ASU 2015-11 is not expected to have any impact on our results of operations, financial position or liquidity or our related financial statement disclosures. In November 2015, the FASB issued Accounting Standards Update 2015-17, Income Taxes ( ASU 2015-17 ). ASU 2015-17 requires that deferred tax liabilities and assets be classified as noncurrent in a classified statement of financial position. ASU 2015-17 is effective for financial statements issued for annual periods beginning after December 15, 2016, and interim periods within those periods, with early adoption permitted. We are currently evaluating the impact of the adoption of this guidance on our financial position and related financial statement disclosures. In February 2016, the FASB issued Accounting Standards Update 2016-02, Leases ( ASU 2016-02 ). ASU 2016-02 requires the recognition of a separate lease liability representing the required lease payments over the lease term and a separate lease asset representing the right to use the underlying asset during the same lease term. Additionally, this ASU provides clarification regarding the identification of certain components of contracts that would represent a lease as well as requires additional disclosures to the notes of the financial statements. ASU 2016-02 is effective for fiscal years beginning after December 15, 2018, including interim periods within that reporting period with early adoption permitted. We are currently evaluating the impact of the adoption of this guidance on our results of operations, financial position and liquidity and related financial statement disclosures. In March 2016, the FASB issued Accounting Standards Update 2016-09, Compensation - Stock Compensation (Topic 718): Improvements to Employee Share-Based Payment Accounting ( ASU 2016-09 ). ASU 2016-09 simplifies several aspects related to the accounting for share-based payment transactions, including the accounting for income taxes, forfeitures, statutory tax withholding requirements and classification on the statement of cash flows. ASU 2016-09 is effective for fiscal years beginning after December 15, 2016, including interim periods within that reporting period, with early adoption permitted. We are currently evaluating the impact of the adoption of this guidance on our results of operations, financial position and liquidity and related financial statement disclosures. There are no other new accounting standards issued, but not yet adopted by us, which are expected to be applicable to our financial position, operating results or financial statement disclosures. 27 Table Of Contents Â°Item 4. Controls and Procedures The Company maintains disclosure controls and procedures (as defined in Rules 13a-15(e) and 15d-15(e) under the Securities Exchange Act of 1934, as amended (the Exchange Act )) that are designed to be effective in providing reasonable assurance that information required to be disclosed in reports under the Exchange Act are recorded, processed and summarized and reported within the time periods specified in the rules and forms of the Securities and Exchange Commission (the SEC ), and that such information is accumulated and communicated to management to allow for timely decisions regarding required disclosure. Our management evaluated, with the participation of our Chief Executive Officer (principal executive officer) and Chief Financial Officer (principal financial officer), the effectiveness of the Company s disclosure controls and procedures as of April 30, 2016. Based on this evaluation process, the Chief Executive Officer and Chief Financial Officer have concluded that the Company s disclosure controls and procedures were effective as of April 30, 2016, and that there were no changes in the Company s internal control over financial reporting that occurred during the last fiscal quarter ended April 30, 2016 that have materially affected, or are reasonably likely to materially affect, the Company s internal control over financial reporting. 28 Table Of Contents PART II. OTHER INFORMATION Â°Item 6. Exhibits The exhibits listed on the Exhibit Index are filed as part of, and incorporated by reference into, this report. 29 Table Of Contents SIGNATURES Pursuant to the requirements of the Securities Exchange Act of 1934, the registrant has duly caused this report to be signed on its behalf by the undersigned thereunto duly authorized. 30 Table Of Contents Exhibit Index Table Of Contents Table Of Contents Table Of Contents Table Of Contents Table Of Contents Table Of Contents '"
      ]
     },
     "execution_count": 8,
     "metadata": {},
     "output_type": "execute_result"
    }
   ],
   "source": [
    "data2"
   ]
  },
  {
   "cell_type": "markdown",
   "metadata": {},
   "source": [
    "# Preprocessing"
   ]
  },
  {
   "cell_type": "markdown",
   "metadata": {},
   "source": [
    "**Import stopwords from LoughranMcDonald Master Dictionary**"
   ]
  },
  {
   "cell_type": "code",
   "execution_count": 9,
   "metadata": {},
   "outputs": [],
   "source": [
    "def import_master_dict_stopwords(stopwords_file_dir = os.path.join(get_project_dir(), 'master-dict')):\n",
    "    os.chdir(stopwords_file_dir)\n",
    "#     stopwords = pd.read_csv('StopWords_Generic.txt', header=None)\n",
    "    stopwords = pd.read_csv('StopWords_Generic.txt', header=None)[0].tolist()\n",
    "    stopwords = frozenset([word.lower() for word in stopwords])\n",
    "    return stopwords"
   ]
  },
  {
   "cell_type": "code",
   "execution_count": 10,
   "metadata": {},
   "outputs": [],
   "source": [
    "def preprocess_filing(text, stopwords=True, stemming=False):\n",
    "    \n",
    "    # remove punctuations\n",
    "    punctuation_list = set(string.punctuation)\n",
    "    text = ''.join(word for word in text if word not in punctuation_list)\n",
    "    \n",
    "    tokens = word_tokenize(text)\n",
    "    \n",
    "    if stopwords:\n",
    "        stopwords = import_master_dict_stopwords()\n",
    "        tokens = [word for word in tokens if word not in stopwords]\n",
    "        tokens = [word.lower() for word in tokens]\n",
    "\n",
    "    if stemming:\n",
    "        stemmer = PorterStemmer()\n",
    "        tokens = [stemmer.stem(word) for word in tokens]\n",
    "                \n",
    "    return tokens"
   ]
  },
  {
   "cell_type": "code",
   "execution_count": 28,
   "metadata": {},
   "outputs": [],
   "source": [
    "vectorizer = CountVectorizer(tokenizer=preprocess_filing)\n",
    "X = vectorizer.fit_transform([data2, data3])\n",
    "# vectorizer.get_feature_names()"
   ]
  },
  {
   "cell_type": "code",
   "execution_count": 23,
   "metadata": {},
   "outputs": [],
   "source": [
    "def vectorize_and_preprocess_filings(filings_list):\n",
    "    \"\"\"vectorizes and preprocesses filings for each company\"\"\"\n",
    "    \n",
    "    vectorizer = CountVectorizer(tokenizer=preprocess_filing)\n",
    "    X = vectorizer.fit_transform(filings_list)\n",
    "    return X"
   ]
  },
  {
   "cell_type": "code",
   "execution_count": 24,
   "metadata": {},
   "outputs": [],
   "source": [
    "X = vectorize_and_preprocess_filings([data, data2, data3])"
   ]
  },
  {
   "cell_type": "code",
   "execution_count": 25,
   "metadata": {},
   "outputs": [
    {
     "data": {
      "text/plain": [
       "(3, 2126)"
      ]
     },
     "execution_count": 25,
     "metadata": {},
     "output_type": "execute_result"
    }
   ],
   "source": [
    "X.shape"
   ]
  },
  {
   "cell_type": "code",
   "execution_count": 26,
   "metadata": {},
   "outputs": [
    {
     "data": {
      "text/plain": [
       "2126"
      ]
     },
     "execution_count": 26,
     "metadata": {},
     "output_type": "execute_result"
    }
   ],
   "source": [
    "len(X.toarray()[1])"
   ]
  },
  {
   "cell_type": "code",
   "execution_count": null,
   "metadata": {},
   "outputs": [],
   "source": []
  },
  {
   "cell_type": "markdown",
   "metadata": {},
   "source": [
    "# Calculating Similarity"
   ]
  },
  {
   "cell_type": "code",
   "execution_count": 30,
   "metadata": {},
   "outputs": [],
   "source": [
    "def calculate_consine_similarity(a, b):\n",
    "    cos_sim = np.dot(a,b) / ( np.linalg.norm(a) * np.linalg.norm(b) )\n",
    "    return cos_sim"
   ]
  },
  {
   "cell_type": "code",
   "execution_count": 31,
   "metadata": {},
   "outputs": [
    {
     "data": {
      "text/plain": [
       "0.8209976571458523"
      ]
     },
     "execution_count": 31,
     "metadata": {},
     "output_type": "execute_result"
    }
   ],
   "source": [
    "calculate_consine_similarity(X.toarray()[0] ,X.toarray()[1])"
   ]
  },
  {
   "cell_type": "code",
   "execution_count": 32,
   "metadata": {},
   "outputs": [],
   "source": [
    "def calculate_similarities(filing_type=['10-K', '10-Q']):\n",
    "    project_dir = get_project_dir()\n",
    "    os.chdir(os.path.join(project_dir, 'sec-filings-downloaded'))\n",
    "    company_dir_list = os.listdir()\n",
    "\n",
    "    for company in company_dir_list:\n",
    "        company_dir = os.path.join(project_dir, 'sec-filings-downloaded', company)\n",
    "        os.chdir()"
   ]
  },
  {
   "cell_type": "code",
   "execution_count": 59,
   "metadata": {},
   "outputs": [],
   "source": [
    "project_dir = get_project_dir()\n",
    "company_dir_list = os.listdir(os.chdir(os.path.join(project_dir, 'sec-filings-downloaded')))\n",
    "\n",
    "for company in company_dir_list:\n",
    "    company_dir = os.path.join(project_dir, 'sec-filings-downloaded', company)\n",
    "    os.chdir(os.path.join(company_dir, 'cleaned_filings'))\n",
    "    \n",
    "    ten_k_dict = {}\n",
    "    ten_q_dict = {}\n",
    "    \n",
    "    for file in os.listdir():\n",
    "        if file.endswith('10-K'): \n",
    "            filing_year = int(file[8:12])\n",
    "            ten_k_dict[file] = filing_year\n",
    "            \n",
    "        if file.endswith('10-Q'):\n",
    "            filing_quarter = str(file[8:10])\n",
    "            filing_year = file[11:15]            \n",
    "            ten_q_dict[file] = str(filing_quarter) + '_' + filing_year\n",
    "            \n",
    "    "
   ]
  },
  {
   "cell_type": "code",
   "execution_count": 61,
   "metadata": {},
   "outputs": [
    {
     "data": {
      "text/plain": [
       "{'cleaned_2014-02-13_10-K': 2014,\n",
       " 'cleaned_2015-02-17_10-K': 2015,\n",
       " 'cleaned_2016-02-12_10-K': 2016,\n",
       " 'cleaned_2017-02-10_10-K': 2017,\n",
       " 'cleaned_2018-02-12_10-K': 2018,\n",
       " 'cleaned_2019-02-11_10-K': 2019}"
      ]
     },
     "execution_count": 61,
     "metadata": {},
     "output_type": "execute_result"
    }
   ],
   "source": [
    "ten_k_dict"
   ]
  },
  {
   "cell_type": "code",
   "execution_count": 65,
   "metadata": {},
   "outputs": [
    {
     "name": "stdout",
     "output_type": "stream",
     "text": [
      "cleaned_2017-02-10_10-K\n",
      "cleaned_2018-02-12_10-K\n",
      "cleaned_2019-02-11_10-K\n"
     ]
    }
   ],
   "source": [
    "for filing, year in ten_k_dict.items():\n",
    "    if year > 2016:\n",
    "        print(filing)"
   ]
  },
  {
   "cell_type": "code",
   "execution_count": 67,
   "metadata": {},
   "outputs": [
    {
     "name": "stdout",
     "output_type": "stream",
     "text": [
      "cleaned_Q1_2014-04-25_10-Q\n",
      "cleaned_Q1_2015-04-29_10-Q\n",
      "cleaned_Q1_2016-04-22_10-Q\n",
      "cleaned_Q1_2018-04-27_10-Q\n",
      "cleaned_Q1_2017-04-21_10-Q\n"
     ]
    }
   ],
   "source": [
    "for filing, quarter_year in ten_q_dict.items():\n",
    "    if quarter_year[0:2] == 'Q1': print(filing)\n",
    "    "
   ]
  },
  {
   "cell_type": "code",
   "execution_count": 68,
   "metadata": {},
   "outputs": [
    {
     "ename": "TypeError",
     "evalue": "fromkeys expected at least 1 arguments, got 0",
     "output_type": "error",
     "traceback": [
      "\u001b[0;31m---------------------------------------------------------------------------\u001b[0m",
      "\u001b[0;31mTypeError\u001b[0m                                 Traceback (most recent call last)",
      "\u001b[0;32m<ipython-input-68-42075421aaa2>\u001b[0m in \u001b[0;36m<module>\u001b[0;34m()\u001b[0m\n\u001b[0;32m----> 1\u001b[0;31m \u001b[0mten_k_dict\u001b[0m\u001b[0;34m.\u001b[0m\u001b[0mfromkeys\u001b[0m\u001b[0;34m(\u001b[0m\u001b[0;34m)\u001b[0m\u001b[0;34m\u001b[0m\u001b[0;34m\u001b[0m\u001b[0m\n\u001b[0m",
      "\u001b[0;31mTypeError\u001b[0m: fromkeys expected at least 1 arguments, got 0"
     ]
    }
   ],
   "source": [
    "ten_k_dict.fromkeys()"
   ]
  },
  {
   "cell_type": "code",
   "execution_count": null,
   "metadata": {},
   "outputs": [],
   "source": []
  },
  {
   "cell_type": "code",
   "execution_count": null,
   "metadata": {},
   "outputs": [],
   "source": []
  },
  {
   "cell_type": "code",
   "execution_count": 34,
   "metadata": {},
   "outputs": [
    {
     "data": {
      "text/plain": [
       "dict_values([])"
      ]
     },
     "execution_count": 34,
     "metadata": {},
     "output_type": "execute_result"
    }
   ],
   "source": [
    "filing_dict.values()"
   ]
  },
  {
   "cell_type": "code",
   "execution_count": 35,
   "metadata": {},
   "outputs": [
    {
     "data": {
      "text/plain": [
       "(2, 1669)"
      ]
     },
     "execution_count": 35,
     "metadata": {},
     "output_type": "execute_result"
    }
   ],
   "source": [
    "X.shape"
   ]
  },
  {
   "cell_type": "code",
   "execution_count": null,
   "metadata": {
    "collapsed": true
   },
   "outputs": [],
   "source": []
  },
  {
   "cell_type": "code",
   "execution_count": null,
   "metadata": {
    "collapsed": true
   },
   "outputs": [],
   "source": []
  },
  {
   "cell_type": "code",
   "execution_count": null,
   "metadata": {
    "collapsed": true
   },
   "outputs": [],
   "source": []
  },
  {
   "cell_type": "code",
   "execution_count": null,
   "metadata": {
    "collapsed": true
   },
   "outputs": [],
   "source": []
  },
  {
   "cell_type": "code",
   "execution_count": null,
   "metadata": {
    "collapsed": true
   },
   "outputs": [],
   "source": []
  },
  {
   "cell_type": "markdown",
   "metadata": {
    "collapsed": true
   },
   "source": [
    "**Financial Data Used**\n",
    "- Monthly stock returns from Centre for reseach in Security Prices\n",
    "- Firm's Book value of equity and EPS from Compustat\n",
    "- Analyst data from Institutional Brokers estimate system\n",
    "- Sentiment category identifiers from Loughran and McDonald (2011)’s Master Dictionary."
   ]
  },
  {
   "cell_type": "markdown",
   "metadata": {
    "collapsed": true
   },
   "source": [
    "**Similarity measures calculated** <br>\n",
    "Quarter on quarter similarities between 10-Q and 10-K filings using the following four similarity measures:\n",
    "- cosine similarity\n",
    "- Jaccard similarity\n",
    "- minimum edit distance\n",
    "- simple similarity\n",
    "\n",
    "Higher values indicate a higher degree of document similarity across years between the 10-Ks (or 10-Qs), while lower values indicate more changes across documents"
   ]
  },
  {
   "cell_type": "markdown",
   "metadata": {
    "collapsed": true
   },
   "source": [
    "**Mechanism Test**<br>\n",
    "- Measure change of sentiment in document by counting the number of positive words minus number of negative words in the changes between the old and new document, normalized by the size of the changes\n",
    "\n",
    "\n",
    "- compute the uncertainty and litigious nature of the change by counting the number of words categorized as uncertainty and litigious, respectively, normalized by the size of the changes\n",
    "\n",
    "\n",
    "- Sentiment category identifiers (e.g., negative, positive, uncertainty, litigious) are taken from Loughran and McDonald (2011)’s Master Dictionary\n",
    "\n",
    "\n",
    "- parse 10-K/Q documents for mentioning of CEO or CFO turnover and define two indicator variables Change CEO and Change CFO that take the value of 1 if the 10-K/Q documents mention a change in CEO or CFO\n",
    "\n",
    "\n",
    "- Lastly, we obtain firms’ auditor information from AuditAnalytics"
   ]
  },
  {
   "cell_type": "markdown",
   "metadata": {
    "collapsed": true
   },
   "source": [
    "**Linking Similarity / Mechanism Measures to Stock Returns**<br><br>\n",
    "There were 2 methods used: standard calender time portfolios, and additional determinants of returns were controlled by employing Fama-MacBeth monthly cross-sectional regressions"
   ]
  },
  {
   "cell_type": "markdown",
   "metadata": {
    "collapsed": true
   },
   "source": [
    "**Calender Time Portfolio returns**<br><br>\n",
    "For each of the four similarity measures, quntiles were computed each month based on the prior month's distribution of similarity scores across all stocks. \n",
    "- For firms with FYE Dec, for calender quarter Q1, the firm's 10-Q was used, which is generally released in April or May\n",
    "- For Q2, the 10-Q which is generally released in Jul or Aug was used\n",
    "- For Q3, the 10-Q which is generally released in Oct or Nov\n",
    "- For year end results, the 10-K was used, which is generally released in Jan or Feb\n",
    "\n",
    "Similarity scores are computed relative to the prior year report that lines up in calendar time with the report in question (such that 2004 Q1 10-Qs are compared with 2005 Q1 10-Qs, for example)\n",
    "\n",
    "Stocks enter the portfolio in the month after the public release of one of their reports, which induces a lag in our portfolio construction. Firms are held in the portfolio for 3 months. Portfolios are rebalanced monthly, and the returns are reported in Table IV."
   ]
  },
  {
   "cell_type": "code",
   "execution_count": null,
   "metadata": {
    "collapsed": true
   },
   "outputs": [],
   "source": []
  },
  {
   "cell_type": "code",
   "execution_count": null,
   "metadata": {
    "collapsed": true
   },
   "outputs": [],
   "source": []
  },
  {
   "cell_type": "markdown",
   "metadata": {
    "collapsed": true
   },
   "source": [
    "# Immediate Next Steps"
   ]
  },
  {
   "cell_type": "markdown",
   "metadata": {
    "collapsed": true
   },
   "source": [
    "**Calculating document similarity across years**\n",
    "- Document similarity will be compared YoY (e.g. 2019 10-K will be compared with 2018 10-K)\n",
    "- First label the 10Q with their respective quarters. Extract year and quarters from the 10Q (done)\n",
    "\n",
    "Jan - May: Q1\n",
    "Jun - Aug: Q2\n",
    "Sep - Dec: Q3\n",
    "\n",
    "- convert each filing to vec (tokenize each file)\n",
    "- apply stop words\n",
    "- lemmatize / stem the filing if necessary"
   ]
  },
  {
   "cell_type": "code",
   "execution_count": null,
   "metadata": {
    "collapsed": true
   },
   "outputs": [],
   "source": []
  },
  {
   "cell_type": "code",
   "execution_count": null,
   "metadata": {
    "collapsed": true
   },
   "outputs": [],
   "source": []
  },
  {
   "cell_type": "code",
   "execution_count": null,
   "metadata": {
    "collapsed": true
   },
   "outputs": [],
   "source": []
  },
  {
   "cell_type": "code",
   "execution_count": null,
   "metadata": {
    "collapsed": true
   },
   "outputs": [],
   "source": []
  },
  {
   "cell_type": "code",
   "execution_count": null,
   "metadata": {
    "collapsed": true
   },
   "outputs": [],
   "source": []
  },
  {
   "cell_type": "code",
   "execution_count": null,
   "metadata": {
    "collapsed": true
   },
   "outputs": [],
   "source": []
  }
 ],
 "metadata": {
  "kernelspec": {
   "display_name": "Python 3",
   "language": "python",
   "name": "python3"
  },
  "language_info": {
   "codemirror_mode": {
    "name": "ipython",
    "version": 3
   },
   "file_extension": ".py",
   "mimetype": "text/x-python",
   "name": "python",
   "nbconvert_exporter": "python",
   "pygments_lexer": "ipython3",
   "version": "3.6.7"
  }
 },
 "nbformat": 4,
 "nbformat_minor": 2
}
